{
 "cells": [
  {
   "cell_type": "markdown",
   "metadata": {},
   "source": [
    "# Capstone Webscraping using BeautifulSoup\n",
    "\n",
    "This notebook contains guidances & tasks on the data processing for the application\n",
    "\n",
    "## Background\n",
    "\n",
    "Dalam kasus diperlukannya mencari informasi pada halaman 'https://www.exchange-rates.org/exchange-rate-history/usd-idr' terkait nilai tukar USD terhadap IDR selama periode Maret hingga Agustus 2024. Informasi ini diharapkan dapat mengungkap nilai terendah dan nilai tertinggi beserta titik periode pada masing-masing nilai tersebut.\n",
    "\n",
    "## Requesting the Data and Creating a BeautifulSoup\n",
    "\n",
    "Let's start by requesting the webpage using the `get` method from the `requests` library."
   ]
  },
  {
   "cell_type": "code",
   "execution_count": 11,
   "metadata": {},
   "outputs": [
    {
     "name": "stdout",
     "output_type": "stream",
     "text": [
      "Requirement already satisfied: beautifulsoup4==4.12.3 in c:\\users\\deshinta\\appdata\\local\\anaconda3\\envs\\zeus_ca\\lib\\site-packages (from -r requirements.txt (line 1)) (4.12.3)\n",
      "Requirement already satisfied: Flask==3.0.2 in c:\\users\\deshinta\\appdata\\local\\anaconda3\\envs\\zeus_ca\\lib\\site-packages (from -r requirements.txt (line 2)) (3.0.2)\n",
      "Requirement already satisfied: Jinja2==3.1.3 in c:\\users\\deshinta\\appdata\\local\\anaconda3\\envs\\zeus_ca\\lib\\site-packages (from -r requirements.txt (line 3)) (3.1.3)\n",
      "Requirement already satisfied: Werkzeug==3.0.1 in c:\\users\\deshinta\\appdata\\local\\anaconda3\\envs\\zeus_ca\\lib\\site-packages (from -r requirements.txt (line 4)) (3.0.1)\n",
      "Requirement already satisfied: pandas==2.2.1 in c:\\users\\deshinta\\appdata\\local\\anaconda3\\envs\\zeus_ca\\lib\\site-packages (from -r requirements.txt (line 5)) (2.2.1)\n",
      "Requirement already satisfied: matplotlib in c:\\users\\deshinta\\appdata\\local\\anaconda3\\envs\\zeus_ca\\lib\\site-packages (from -r requirements.txt (line 6)) (3.6.2)\n",
      "Requirement already satisfied: Pillow in c:\\users\\deshinta\\appdata\\local\\anaconda3\\envs\\zeus_ca\\lib\\site-packages (from -r requirements.txt (line 7)) (10.4.0)\n",
      "Requirement already satisfied: requests in c:\\users\\deshinta\\appdata\\local\\anaconda3\\envs\\zeus_ca\\lib\\site-packages (from -r requirements.txt (line 8)) (2.28.2)\n",
      "Requirement already satisfied: wordcloud==1.9.3 in c:\\users\\deshinta\\appdata\\local\\anaconda3\\envs\\zeus_ca\\lib\\site-packages (from -r requirements.txt (line 9)) (1.9.3)\n",
      "Requirement already satisfied: soupsieve>1.2 in c:\\users\\deshinta\\appdata\\local\\anaconda3\\envs\\zeus_ca\\lib\\site-packages (from beautifulsoup4==4.12.3->-r requirements.txt (line 1)) (2.6)\n",
      "Requirement already satisfied: itsdangerous>=2.1.2 in c:\\users\\deshinta\\appdata\\local\\anaconda3\\envs\\zeus_ca\\lib\\site-packages (from Flask==3.0.2->-r requirements.txt (line 2)) (2.2.0)\n",
      "Requirement already satisfied: click>=8.1.3 in c:\\users\\deshinta\\appdata\\local\\anaconda3\\envs\\zeus_ca\\lib\\site-packages (from Flask==3.0.2->-r requirements.txt (line 2)) (8.1.7)\n",
      "Requirement already satisfied: blinker>=1.6.2 in c:\\users\\deshinta\\appdata\\local\\anaconda3\\envs\\zeus_ca\\lib\\site-packages (from Flask==3.0.2->-r requirements.txt (line 2)) (1.8.2)\n",
      "Requirement already satisfied: MarkupSafe>=2.0 in c:\\users\\deshinta\\appdata\\local\\anaconda3\\envs\\zeus_ca\\lib\\site-packages (from Jinja2==3.1.3->-r requirements.txt (line 3)) (2.1.5)\n",
      "Requirement already satisfied: numpy<2,>=1.22.4 in c:\\users\\deshinta\\appdata\\local\\anaconda3\\envs\\zeus_ca\\lib\\site-packages (from pandas==2.2.1->-r requirements.txt (line 5)) (1.26.4)\n",
      "Requirement already satisfied: python-dateutil>=2.8.2 in c:\\users\\deshinta\\appdata\\local\\anaconda3\\envs\\zeus_ca\\lib\\site-packages (from pandas==2.2.1->-r requirements.txt (line 5)) (2.9.0)\n",
      "Requirement already satisfied: pytz>=2020.1 in c:\\users\\deshinta\\appdata\\local\\anaconda3\\envs\\zeus_ca\\lib\\site-packages (from pandas==2.2.1->-r requirements.txt (line 5)) (2024.1)\n",
      "Requirement already satisfied: tzdata>=2022.7 in c:\\users\\deshinta\\appdata\\local\\anaconda3\\envs\\zeus_ca\\lib\\site-packages (from pandas==2.2.1->-r requirements.txt (line 5)) (2024.1)\n",
      "Requirement already satisfied: contourpy>=1.0.1 in c:\\users\\deshinta\\appdata\\local\\anaconda3\\envs\\zeus_ca\\lib\\site-packages (from matplotlib->-r requirements.txt (line 6)) (1.3.0)\n",
      "Requirement already satisfied: cycler>=0.10 in c:\\users\\deshinta\\appdata\\local\\anaconda3\\envs\\zeus_ca\\lib\\site-packages (from matplotlib->-r requirements.txt (line 6)) (0.12.1)\n",
      "Requirement already satisfied: fonttools>=4.22.0 in c:\\users\\deshinta\\appdata\\local\\anaconda3\\envs\\zeus_ca\\lib\\site-packages (from matplotlib->-r requirements.txt (line 6)) (4.53.1)\n",
      "Requirement already satisfied: kiwisolver>=1.0.1 in c:\\users\\deshinta\\appdata\\local\\anaconda3\\envs\\zeus_ca\\lib\\site-packages (from matplotlib->-r requirements.txt (line 6)) (1.4.5)\n",
      "Requirement already satisfied: packaging>=20.0 in c:\\users\\deshinta\\appdata\\local\\anaconda3\\envs\\zeus_ca\\lib\\site-packages (from matplotlib->-r requirements.txt (line 6)) (24.1)\n",
      "Requirement already satisfied: pyparsing>=2.2.1 in c:\\users\\deshinta\\appdata\\local\\anaconda3\\envs\\zeus_ca\\lib\\site-packages (from matplotlib->-r requirements.txt (line 6)) (3.1.4)\n",
      "Requirement already satisfied: charset-normalizer<4,>=2 in c:\\users\\deshinta\\appdata\\local\\anaconda3\\envs\\zeus_ca\\lib\\site-packages (from requests->-r requirements.txt (line 8)) (3.3.2)\n",
      "Requirement already satisfied: idna<4,>=2.5 in c:\\users\\deshinta\\appdata\\local\\anaconda3\\envs\\zeus_ca\\lib\\site-packages (from requests->-r requirements.txt (line 8)) (3.8)\n",
      "Requirement already satisfied: urllib3<1.27,>=1.21.1 in c:\\users\\deshinta\\appdata\\local\\anaconda3\\envs\\zeus_ca\\lib\\site-packages (from requests->-r requirements.txt (line 8)) (1.26.20)\n",
      "Requirement already satisfied: certifi>=2017.4.17 in c:\\users\\deshinta\\appdata\\local\\anaconda3\\envs\\zeus_ca\\lib\\site-packages (from requests->-r requirements.txt (line 8)) (2024.8.30)\n",
      "Requirement already satisfied: colorama in c:\\users\\deshinta\\appdata\\local\\anaconda3\\envs\\zeus_ca\\lib\\site-packages (from click>=8.1.3->Flask==3.0.2->-r requirements.txt (line 2)) (0.4.6)\n",
      "Requirement already satisfied: six>=1.5 in c:\\users\\deshinta\\appdata\\local\\anaconda3\\envs\\zeus_ca\\lib\\site-packages (from python-dateutil>=2.8.2->pandas==2.2.1->-r requirements.txt (line 5)) (1.16.0)\n",
      "Note: you may need to restart the kernel to use updated packages.\n"
     ]
    }
   ],
   "source": [
    "pip install -r requirements.txt"
   ]
  },
  {
   "cell_type": "code",
   "execution_count": 12,
   "metadata": {
    "ExecuteTime": {
     "end_time": "2020-01-13T05:12:23.275508Z",
     "start_time": "2020-01-13T05:12:20.009898Z"
    }
   },
   "outputs": [],
   "source": [
    "import requests\n",
    "\n",
    "url_get = requests.get('https://www.exchange-rates.org/exchange-rate-history/usd-idr')"
   ]
  },
  {
   "cell_type": "markdown",
   "metadata": {},
   "source": [
    "To visualize what exactly you get from the `request.get`, we can use `.content` so see what we exactly get (HTML content), in here i slice it so it won't make our screen full of the html we get from the page. You can delete the slicing if you want to see what we fully get."
   ]
  },
  {
   "cell_type": "code",
   "execution_count": 13,
   "metadata": {
    "ExecuteTime": {
     "end_time": "2020-01-13T05:12:23.290648Z",
     "start_time": "2020-01-13T05:12:23.277650Z"
    }
   },
   "outputs": [
    {
     "data": {
      "text/plain": [
       "b'!DOCTYPE html>\\r\\n<!--[if lt IE 9]>\\r\\n<html class=\"no-js ie8 oldie\" lang=\"en\" xml:lang=\\'en\\'>\\r\\n<![endif]-->\\r\\n<!--[if gt IE 8]><!--><html class=\"no-js\" lang=\"en\" xml:lang=\\'en\\'><!--<![endif]-->\\r\\n<head>\\r\\n<title>US Dollar to Indonesian Rupiah History - USD to IDR Historical Rates</title>\\r\\n<meta http-equiv=\"X-UA-Compatible\" content=\"IE=edge\">\\r\\n<meta name=\"viewport\" content=\"width=device-width, initial-scale=1, maximum-scale=5\">\\r\\n<meta charset=\"utf-8\" /><meta http-equiv=\"Content-Type\" content=\"text/html;'"
      ]
     },
     "execution_count": 13,
     "metadata": {},
     "output_type": "execute_result"
    }
   ],
   "source": [
    "url_get.content[1:500]"
   ]
  },
  {
   "cell_type": "markdown",
   "metadata": {},
   "source": [
    "As we can see we get a very unstructured and complex html, which actually contains the codes needed to show the webpages on your web browser. But we as human still confused what and where we can use that piece of code, so here where we use the beautifulsoup. Beautiful soup class will result a beautifulsoup object. Beautiful Soup transforms a complex HTML document into a complex tree of Python objects. \n",
    "\n",
    "Let's create a BeautifulSoup object and feel free to explore the object here."
   ]
  },
  {
   "cell_type": "code",
   "execution_count": 14,
   "metadata": {
    "ExecuteTime": {
     "end_time": "2020-01-13T05:12:23.808122Z",
     "start_time": "2020-01-13T05:12:23.292610Z"
    }
   },
   "outputs": [],
   "source": [
    "from bs4 import BeautifulSoup \n",
    "\n",
    "soup = BeautifulSoup(url_get.content,\"html.parser\")"
   ]
  },
  {
   "cell_type": "markdown",
   "metadata": {},
   "source": [
    "## Finding the right key to scrap the data & Extracting the right information"
   ]
  },
  {
   "cell_type": "markdown",
   "metadata": {},
   "source": [
    "To extract the desired information, we need to find the right key using the .find() method. We can explore the HTML structure using .prettify().\n",
    "\n",
    "Pada section ini, setelah menemukan url dan finding the right key for the table section on the website. Perlu dijalankan print table dari section html yang telah dicari."
   ]
  },
  {
   "cell_type": "code",
   "execution_count": 15,
   "metadata": {
    "ExecuteTime": {
     "end_time": "2020-01-13T05:12:23.878904Z",
     "start_time": "2020-01-13T05:12:23.854974Z"
    }
   },
   "outputs": [
    {
     "name": "stdout",
     "output_type": "stream",
     "text": [
      "section class=\"box history-rates-table-box\">\n",
      " <h2 class=\"title\">\n",
      "  <span>\n",
      "   USD to IDR History for Last 6 Months\n",
      "  </span>\n",
      " </h2>\n",
      " <div class=\"inner\">\n",
      "  <table border=\"0\" cellpadding=\"0\" cellspacing=\"0\" class=\"history-rates-data\">\n",
      "   <thead>\n",
      "    <tr>\n",
      "     <th class=\"ltr-bidi-fix\">\n",
      "      Date\n",
      "     </th>\n",
      "     <th class=\"ltr-bidi-fix\">\n",
      "      US Dollar to Indonesian Rupiah\n",
      "     </th>\n",
      "    </tr>\n",
      "   </thead>\n",
      "   <tbody>\n",
      "    <tr>\n",
      "     <td>\n",
      "      <a class=\"w\" href=\"/exchange-rate-history/usd-idr-2024-08\n"
     ]
    }
   ],
   "source": [
    "table = soup.find('section', attrs={'class':'box history-rates-table-box'})\n",
    "print(table.prettify()[1:500])"
   ]
  },
  {
   "cell_type": "markdown",
   "metadata": {},
   "source": [
    "Next, we need to find the row length."
   ]
  },
  {
   "cell_type": "code",
   "execution_count": 16,
   "metadata": {},
   "outputs": [
    {
     "data": {
      "text/plain": [
       "134"
      ]
     },
     "execution_count": 16,
     "metadata": {},
     "output_type": "execute_result"
    }
   ],
   "source": [
    "usdrates = table.find_all('tr')\n",
    "row_length = len(usdrates)\n",
    "row_length"
   ]
  },
  {
   "cell_type": "markdown",
   "metadata": {},
   "source": [
    "Do the scrapping process here (please change this markdown with your explanation). \n",
    "\n",
    "> You can use a for loop to perform the scraping process in various ways depending on the HTML structure of the website you want to scrap and the information you want to retrieve."
   ]
  },
  {
   "cell_type": "code",
   "execution_count": 17,
   "metadata": {
    "ExecuteTime": {
     "end_time": "2020-01-13T05:12:24.008256Z",
     "start_time": "2020-01-13T05:12:23.980358Z"
    }
   },
   "outputs": [
    {
     "data": {
      "text/plain": [
       "[('2024-8-30', '1 USD = 15,532 IDR'),\n",
       " ('2024-8-29', '1 USD = 15,466 IDR'),\n",
       " ('2024-8-28', '1 USD = 15,446 IDR'),\n",
       " ('2024-8-27', '1 USD = 15,481 IDR'),\n",
       " ('2024-8-26', '1 USD = 15,483 IDR'),\n",
       " ('2024-8-23', '1 USD = 15,401 IDR'),\n",
       " ('2024-8-22', '1 USD = 15,751 IDR'),\n",
       " ('2024-8-21', '1 USD = 15,508 IDR'),\n",
       " ('2024-8-20', '1 USD = 15,449 IDR'),\n",
       " ('2024-8-19', '1 USD = 15,530 IDR'),\n",
       " ('2024-8-16', '1 USD = 15,698 IDR'),\n",
       " ('2024-8-15', '1 USD = 15,773 IDR'),\n",
       " ('2024-8-14', '1 USD = 15,634 IDR'),\n",
       " ('2024-8-13', '1 USD = 15,756 IDR'),\n",
       " ('2024-8-12', '1 USD = 15,948 IDR'),\n",
       " ('2024-8-9', '1 USD = 15,950 IDR'),\n",
       " ('2024-8-8', '1 USD = 15,985 IDR'),\n",
       " ('2024-8-7', '1 USD = 16,030 IDR'),\n",
       " ('2024-8-6', '1 USD = 16,175 IDR'),\n",
       " ('2024-8-5', '1 USD = 16,222 IDR'),\n",
       " ('2024-8-2', '1 USD = 16,176 IDR'),\n",
       " ('2024-8-1', '1 USD = 16,275 IDR'),\n",
       " ('2024-7-31', '1 USD = 16,251 IDR'),\n",
       " ('2024-7-30', '1 USD = 16,326 IDR'),\n",
       " ('2024-7-29', '1 USD = 16,297 IDR'),\n",
       " ('2024-7-26', '1 USD = 16,304 IDR'),\n",
       " ('2024-7-25', '1 USD = 16,332 IDR'),\n",
       " ('2024-7-24', '1 USD = 16,245 IDR'),\n",
       " ('2024-7-23', '1 USD = 16,219 IDR'),\n",
       " ('2024-7-22', '1 USD = 16,218 IDR'),\n",
       " ('2024-7-19', '1 USD = 16,213 IDR'),\n",
       " ('2024-7-18', '1 USD = 16,181 IDR'),\n",
       " ('2024-7-17', '1 USD = 16,151 IDR'),\n",
       " ('2024-7-16', '1 USD = 16,166 IDR'),\n",
       " ('2024-7-15', '1 USD = 16,192 IDR'),\n",
       " ('2024-7-12', '1 USD = 16,115 IDR'),\n",
       " ('2024-7-11', '1 USD = 16,104 IDR'),\n",
       " ('2024-7-10', '1 USD = 16,204 IDR'),\n",
       " ('2024-7-9', '1 USD = 16,284 IDR'),\n",
       " ('2024-7-8', '1 USD = 16,285 IDR'),\n",
       " ('2024-7-5', '1 USD = 16,252 IDR'),\n",
       " ('2024-7-4', '1 USD = 16,336 IDR'),\n",
       " ('2024-7-3', '1 USD = 16,346 IDR'),\n",
       " ('2024-7-2', '1 USD = 16,387 IDR'),\n",
       " ('2024-7-1', '1 USD = 16,374 IDR'),\n",
       " ('2024-6-28', '1 USD = 16,350 IDR'),\n",
       " ('2024-6-27', '1 USD = 16,387 IDR'),\n",
       " ('2024-6-26', '1 USD = 16,431 IDR'),\n",
       " ('2024-6-25', '1 USD = 16,399 IDR'),\n",
       " ('2024-6-24', '1 USD = 16,401 IDR'),\n",
       " ('2024-6-21', '1 USD = 16,478 IDR'),\n",
       " ('2024-6-20', '1 USD = 16,490 IDR'),\n",
       " ('2024-6-19', '1 USD = 16,391 IDR'),\n",
       " ('2024-6-18', '1 USD = 16,376 IDR'),\n",
       " ('2024-6-17', '1 USD = 16,467 IDR'),\n",
       " ('2024-6-14', '1 USD = 16,487 IDR'),\n",
       " ('2024-6-13', '1 USD = 16,283 IDR'),\n",
       " ('2024-6-12', '1 USD = 16,246 IDR'),\n",
       " ('2024-6-11', '1 USD = 16,306 IDR'),\n",
       " ('2024-6-10', '1 USD = 16,309 IDR'),\n",
       " ('2024-6-7', '1 USD = 16,277 IDR'),\n",
       " ('2024-6-6', '1 USD = 16,239 IDR'),\n",
       " ('2024-6-5', '1 USD = 16,312 IDR'),\n",
       " ('2024-6-4', '1 USD = 16,282 IDR'),\n",
       " ('2024-6-3', '1 USD = 16,210 IDR'),\n",
       " ('2024-5-31', '1 USD = 16,255 IDR'),\n",
       " ('2024-5-30', '1 USD = 16,233 IDR'),\n",
       " ('2024-5-29', '1 USD = 16,252 IDR'),\n",
       " ('2024-5-28', '1 USD = 16,115 IDR'),\n",
       " ('2024-5-27', '1 USD = 16,073 IDR'),\n",
       " ('2024-5-24', '1 USD = 16,045 IDR'),\n",
       " ('2024-5-23', '1 USD = 16,091 IDR'),\n",
       " ('2024-5-22', '1 USD = 16,041 IDR'),\n",
       " ('2024-5-21', '1 USD = 16,004 IDR'),\n",
       " ('2024-5-20', '1 USD = 16,040 IDR'),\n",
       " ('2024-5-17', '1 USD = 15,965 IDR'),\n",
       " ('2024-5-16', '1 USD = 15,931 IDR'),\n",
       " ('2024-5-15', '1 USD = 15,918 IDR'),\n",
       " ('2024-5-14', '1 USD = 16,103 IDR'),\n",
       " ('2024-5-13', '1 USD = 16,118 IDR'),\n",
       " ('2024-5-10', '1 USD = 16,055 IDR'),\n",
       " ('2024-5-9', '1 USD = 16,027 IDR'),\n",
       " ('2024-5-8', '1 USD = 16,075 IDR'),\n",
       " ('2024-5-7', '1 USD = 16,072 IDR'),\n",
       " ('2024-5-6', '1 USD = 16,042 IDR'),\n",
       " ('2024-5-3', '1 USD = 15,969 IDR'),\n",
       " ('2024-5-2', '1 USD = 16,095 IDR'),\n",
       " ('2024-5-1', '1 USD = 16,194 IDR'),\n",
       " ('2024-4-30', '1 USD = 16,263 IDR'),\n",
       " ('2024-4-29', '1 USD = 16,241 IDR'),\n",
       " ('2024-4-26', '1 USD = 16,241 IDR'),\n",
       " ('2024-4-25', '1 USD = 16,193 IDR'),\n",
       " ('2024-4-24', '1 USD = 16,212 IDR'),\n",
       " ('2024-4-23', '1 USD = 16,143 IDR'),\n",
       " ('2024-4-22', '1 USD = 16,238 IDR'),\n",
       " ('2024-4-19', '1 USD = 16,218 IDR'),\n",
       " ('2024-4-18', '1 USD = 16,210 IDR'),\n",
       " ('2024-4-17', '1 USD = 16,243 IDR'),\n",
       " ('2024-4-16', '1 USD = 16,303 IDR'),\n",
       " ('2024-4-15', '1 USD = 16,083 IDR'),\n",
       " ('2024-4-12', '1 USD = 16,118 IDR'),\n",
       " ('2024-4-11', '1 USD = 16,011 IDR'),\n",
       " ('2024-4-10', '1 USD = 16,001 IDR'),\n",
       " ('2024-4-9', '1 USD = 15,892 IDR'),\n",
       " ('2024-4-8', '1 USD = 15,912 IDR'),\n",
       " ('2024-4-5', '1 USD = 15,888 IDR'),\n",
       " ('2024-4-4', '1 USD = 15,896 IDR'),\n",
       " ('2024-4-3', '1 USD = 15,942 IDR'),\n",
       " ('2024-4-2', '1 USD = 15,952 IDR'),\n",
       " ('2024-4-1', '1 USD = 15,951 IDR'),\n",
       " ('2024-3-29', '1 USD = 15,880 IDR'),\n",
       " ('2024-3-28', '1 USD = 15,891 IDR'),\n",
       " ('2024-3-27', '1 USD = 15,901 IDR'),\n",
       " ('2024-3-26', '1 USD = 15,821 IDR'),\n",
       " ('2024-3-25', '1 USD = 15,784 IDR'),\n",
       " ('2024-3-22', '1 USD = 15,814 IDR'),\n",
       " ('2024-3-21', '1 USD = 15,727 IDR'),\n",
       " ('2024-3-20', '1 USD = 15,697 IDR'),\n",
       " ('2024-3-19', '1 USD = 15,723 IDR'),\n",
       " ('2024-3-18', '1 USD = 15,742 IDR'),\n",
       " ('2024-3-15', '1 USD = 15,647 IDR'),\n",
       " ('2024-3-14', '1 USD = 15,638 IDR'),\n",
       " ('2024-3-13', '1 USD = 15,580 IDR'),\n",
       " ('2024-3-12', '1 USD = 15,560 IDR'),\n",
       " ('2024-3-11', '1 USD = 15,525 IDR'),\n",
       " ('2024-3-8', '1 USD = 15,541 IDR'),\n",
       " ('2024-3-7', '1 USD = 15,627 IDR'),\n",
       " ('2024-3-6', '1 USD = 15,660 IDR'),\n",
       " ('2024-3-5', '1 USD = 15,743 IDR'),\n",
       " ('2024-3-4', '1 USD = 15,760 IDR')]"
      ]
     },
     "execution_count": 17,
     "metadata": {},
     "output_type": "execute_result"
    }
   ],
   "source": [
    "temp = []  # Initiating a tuple\n",
    "\n",
    "for i in range(1, row_length):\n",
    "\n",
    "    # Scraping process\n",
    "    # tanggal = usdrates.find_all('a', attrs={'class':'w'})[i].text\n",
    "    # harga_harian = usdrates.find_all('span', attrs={'class':'w'})[i].text   \n",
    "    #periode = usdrates[i].find_all('td')[0]\n",
    "    #rates = usdrates[i].find_all('td')[1]\n",
    "\n",
    "    try: \n",
    "        time = usdrates[i].find('a', attrs={'class':'n'}).text\n",
    "        price = usdrates[i].find('span', attrs={'class':'w'}).text\n",
    "        temp.append((time, price))\n",
    "    except:\n",
    "        pass\n",
    "    \n",
    "    # You can add your scraping code here\n",
    "    #temp.append((time, harga_harian))\n",
    "    \n",
    "temp"
   ]
  },
  {
   "cell_type": "markdown",
   "metadata": {},
   "source": [
    "Note: You can customize the code inside the loop according to your needs to extract the desired information from the website you scrap. Make sure to check and adjust the code well to suit the HTML structure and information you want to retrieve."
   ]
  },
  {
   "cell_type": "markdown",
   "metadata": {},
   "source": [
    "## Creating data frame & Data wrangling"
   ]
  },
  {
   "cell_type": "markdown",
   "metadata": {},
   "source": [
    "Once we have extracted the data, we can put it into a dataframe."
   ]
  },
  {
   "cell_type": "code",
   "execution_count": 18,
   "metadata": {
    "ExecuteTime": {
     "end_time": "2020-01-13T05:12:41.517372Z",
     "start_time": "2020-01-13T05:12:29.130015Z"
    }
   },
   "outputs": [
    {
     "data": {
      "text/html": [
       "<div>\n",
       "<style scoped>\n",
       "    .dataframe tbody tr th:only-of-type {\n",
       "        vertical-align: middle;\n",
       "    }\n",
       "\n",
       "    .dataframe tbody tr th {\n",
       "        vertical-align: top;\n",
       "    }\n",
       "\n",
       "    .dataframe thead th {\n",
       "        text-align: right;\n",
       "    }\n",
       "</style>\n",
       "<table border=\"1\" class=\"dataframe\">\n",
       "  <thead>\n",
       "    <tr style=\"text-align: right;\">\n",
       "      <th></th>\n",
       "      <th>0</th>\n",
       "      <th>1</th>\n",
       "    </tr>\n",
       "  </thead>\n",
       "  <tbody>\n",
       "    <tr>\n",
       "      <th>0</th>\n",
       "      <td>2024-8-30</td>\n",
       "      <td>1 USD = 15,532 IDR</td>\n",
       "    </tr>\n",
       "    <tr>\n",
       "      <th>1</th>\n",
       "      <td>2024-8-29</td>\n",
       "      <td>1 USD = 15,466 IDR</td>\n",
       "    </tr>\n",
       "    <tr>\n",
       "      <th>2</th>\n",
       "      <td>2024-8-28</td>\n",
       "      <td>1 USD = 15,446 IDR</td>\n",
       "    </tr>\n",
       "    <tr>\n",
       "      <th>3</th>\n",
       "      <td>2024-8-27</td>\n",
       "      <td>1 USD = 15,481 IDR</td>\n",
       "    </tr>\n",
       "    <tr>\n",
       "      <th>4</th>\n",
       "      <td>2024-8-26</td>\n",
       "      <td>1 USD = 15,483 IDR</td>\n",
       "    </tr>\n",
       "  </tbody>\n",
       "</table>\n",
       "</div>"
      ],
      "text/plain": [
       "           0                   1\n",
       "0  2024-8-30  1 USD = 15,532 IDR\n",
       "1  2024-8-29  1 USD = 15,466 IDR\n",
       "2  2024-8-28  1 USD = 15,446 IDR\n",
       "3  2024-8-27  1 USD = 15,481 IDR\n",
       "4  2024-8-26  1 USD = 15,483 IDR"
      ]
     },
     "execution_count": 18,
     "metadata": {},
     "output_type": "execute_result"
    }
   ],
   "source": [
    "import pandas as pd\n",
    "\n",
    "df = pd.DataFrame(temp)\n",
    "df.head()"
   ]
  },
  {
   "cell_type": "code",
   "execution_count": 22,
   "metadata": {},
   "outputs": [
    {
     "data": {
      "text/html": [
       "<div>\n",
       "<style scoped>\n",
       "    .dataframe tbody tr th:only-of-type {\n",
       "        vertical-align: middle;\n",
       "    }\n",
       "\n",
       "    .dataframe tbody tr th {\n",
       "        vertical-align: top;\n",
       "    }\n",
       "\n",
       "    .dataframe thead th {\n",
       "        text-align: right;\n",
       "    }\n",
       "</style>\n",
       "<table border=\"1\" class=\"dataframe\">\n",
       "  <thead>\n",
       "    <tr style=\"text-align: right;\">\n",
       "      <th></th>\n",
       "      <th>date</th>\n",
       "      <th>exchange_rates</th>\n",
       "    </tr>\n",
       "  </thead>\n",
       "  <tbody>\n",
       "    <tr>\n",
       "      <th>0</th>\n",
       "      <td>2024-8-30</td>\n",
       "      <td>1 USD = 15,532 IDR</td>\n",
       "    </tr>\n",
       "    <tr>\n",
       "      <th>1</th>\n",
       "      <td>2024-8-29</td>\n",
       "      <td>1 USD = 15,466 IDR</td>\n",
       "    </tr>\n",
       "    <tr>\n",
       "      <th>2</th>\n",
       "      <td>2024-8-28</td>\n",
       "      <td>1 USD = 15,446 IDR</td>\n",
       "    </tr>\n",
       "    <tr>\n",
       "      <th>3</th>\n",
       "      <td>2024-8-27</td>\n",
       "      <td>1 USD = 15,481 IDR</td>\n",
       "    </tr>\n",
       "    <tr>\n",
       "      <th>4</th>\n",
       "      <td>2024-8-26</td>\n",
       "      <td>1 USD = 15,483 IDR</td>\n",
       "    </tr>\n",
       "  </tbody>\n",
       "</table>\n",
       "</div>"
      ],
      "text/plain": [
       "        date      exchange_rates\n",
       "0  2024-8-30  1 USD = 15,532 IDR\n",
       "1  2024-8-29  1 USD = 15,466 IDR\n",
       "2  2024-8-28  1 USD = 15,446 IDR\n",
       "3  2024-8-27  1 USD = 15,481 IDR\n",
       "4  2024-8-26  1 USD = 15,483 IDR"
      ]
     },
     "execution_count": 22,
     "metadata": {},
     "output_type": "execute_result"
    }
   ],
   "source": [
    "df.rename(columns= {0: 'date',\n",
    "                    1 : 'exchange_rates'},\n",
    "                    inplace= True)\n",
    "df.head()"
   ]
  },
  {
   "cell_type": "markdown",
   "metadata": {},
   "source": [
    "### Data Cleansing\n",
    "\n",
    "Dikarenakan nama table masih 0 dan 1, jd perlukan rename table. Kemudian tipe data dari masing-masing kolom masih salah sehingga perlu pengubahan tipe, date -> datetime, exchange rates -> float64."
   ]
  },
  {
   "cell_type": "code",
   "execution_count": 32,
   "metadata": {},
   "outputs": [
    {
     "data": {
      "text/html": [
       "<div>\n",
       "<style scoped>\n",
       "    .dataframe tbody tr th:only-of-type {\n",
       "        vertical-align: middle;\n",
       "    }\n",
       "\n",
       "    .dataframe tbody tr th {\n",
       "        vertical-align: top;\n",
       "    }\n",
       "\n",
       "    .dataframe thead th {\n",
       "        text-align: right;\n",
       "    }\n",
       "</style>\n",
       "<table border=\"1\" class=\"dataframe\">\n",
       "  <thead>\n",
       "    <tr style=\"text-align: right;\">\n",
       "      <th></th>\n",
       "      <th>date</th>\n",
       "      <th>exchange_rates</th>\n",
       "    </tr>\n",
       "  </thead>\n",
       "  <tbody>\n",
       "    <tr>\n",
       "      <th>0</th>\n",
       "      <td>2024-08-30</td>\n",
       "      <td>15532.0</td>\n",
       "    </tr>\n",
       "    <tr>\n",
       "      <th>1</th>\n",
       "      <td>2024-08-29</td>\n",
       "      <td>15466.0</td>\n",
       "    </tr>\n",
       "    <tr>\n",
       "      <th>2</th>\n",
       "      <td>2024-08-28</td>\n",
       "      <td>15446.0</td>\n",
       "    </tr>\n",
       "    <tr>\n",
       "      <th>3</th>\n",
       "      <td>2024-08-27</td>\n",
       "      <td>15481.0</td>\n",
       "    </tr>\n",
       "    <tr>\n",
       "      <th>4</th>\n",
       "      <td>2024-08-26</td>\n",
       "      <td>15483.0</td>\n",
       "    </tr>\n",
       "    <tr>\n",
       "      <th>...</th>\n",
       "      <td>...</td>\n",
       "      <td>...</td>\n",
       "    </tr>\n",
       "    <tr>\n",
       "      <th>125</th>\n",
       "      <td>2024-03-08</td>\n",
       "      <td>15541.0</td>\n",
       "    </tr>\n",
       "    <tr>\n",
       "      <th>126</th>\n",
       "      <td>2024-03-07</td>\n",
       "      <td>15627.0</td>\n",
       "    </tr>\n",
       "    <tr>\n",
       "      <th>127</th>\n",
       "      <td>2024-03-06</td>\n",
       "      <td>15660.0</td>\n",
       "    </tr>\n",
       "    <tr>\n",
       "      <th>128</th>\n",
       "      <td>2024-03-05</td>\n",
       "      <td>15743.0</td>\n",
       "    </tr>\n",
       "    <tr>\n",
       "      <th>129</th>\n",
       "      <td>2024-03-04</td>\n",
       "      <td>15760.0</td>\n",
       "    </tr>\n",
       "  </tbody>\n",
       "</table>\n",
       "<p>130 rows × 2 columns</p>\n",
       "</div>"
      ],
      "text/plain": [
       "          date  exchange_rates\n",
       "0   2024-08-30         15532.0\n",
       "1   2024-08-29         15466.0\n",
       "2   2024-08-28         15446.0\n",
       "3   2024-08-27         15481.0\n",
       "4   2024-08-26         15483.0\n",
       "..         ...             ...\n",
       "125 2024-03-08         15541.0\n",
       "126 2024-03-07         15627.0\n",
       "127 2024-03-06         15660.0\n",
       "128 2024-03-05         15743.0\n",
       "129 2024-03-04         15760.0\n",
       "\n",
       "[130 rows x 2 columns]"
      ]
     },
     "execution_count": 32,
     "metadata": {},
     "output_type": "execute_result"
    }
   ],
   "source": [
    "df['exchange_rates'] = df['exchange_rates'].str.replace(\"1 USD = \",\"\")\n",
    "df['exchange_rates'] = df['exchange_rates'].str.replace(\" IDR\",\"\")\n",
    "df['exchange_rates'] = df['exchange_rates'].str.replace(\",\",\"\")\n",
    "df['exchange_rates'] = df['exchange_rates'].astype('float64')\n",
    "df['date'] = df['date'].astype('datetime64[ns]')\n",
    "df"
   ]
  },
  {
   "cell_type": "code",
   "execution_count": 33,
   "metadata": {},
   "outputs": [
    {
     "data": {
      "text/plain": [
       "date              datetime64[ns]\n",
       "exchange_rates           float64\n",
       "dtype: object"
      ]
     },
     "execution_count": 33,
     "metadata": {},
     "output_type": "execute_result"
    }
   ],
   "source": [
    "df.dtypes"
   ]
  },
  {
   "cell_type": "markdown",
   "metadata": {},
   "source": [
    "### Data Visualization\n",
    "\n",
    "Setelah melakukan data cleansing, data tsb bisa di buat dalam grafik, yang dimana date menjadi index x dalam grafik dibawah."
   ]
  },
  {
   "cell_type": "code",
   "execution_count": 34,
   "metadata": {},
   "outputs": [],
   "source": [
    "df = df.set_index('date')"
   ]
  },
  {
   "cell_type": "code",
   "execution_count": 35,
   "metadata": {},
   "outputs": [
    {
     "data": {
      "text/plain": [
       "<AxesSubplot: xlabel='date'>"
      ]
     },
     "execution_count": 35,
     "metadata": {},
     "output_type": "execute_result"
    },
    {
     "data": {
      "image/png": "[encoded data removed]",
      "text/plain": [
       "<Figure size 640x480 with 1 Axes>"
      ]
     },
     "metadata": {},
     "output_type": "display_data"
    }
   ],
   "source": [
    "df.plot()"
   ]
  },
  {
   "cell_type": "markdown",
   "metadata": {},
   "source": [
    "### Implementing your webscrapping to the flask dashboard\n",
    "\n",
    "- Copy paste all of your web scrapping process to the desired position on the `app.py`\n",
    "- Change the title of the dashboard in `index.html`"
   ]
  },
  {
   "cell_type": "markdown",
   "metadata": {},
   "source": [
    "## Finishing This Notebook with Your Analysis and Conclusion\n",
    "\n",
    "First you can do start with making the data visualization."
   ]
  },
  {
   "cell_type": "code",
   "execution_count": null,
   "metadata": {
    "ExecuteTime": {
     "end_time": "2020-01-13T05:20:56.208237Z",
     "start_time": "2020-01-13T05:20:56.076043Z"
    }
   },
   "outputs": [],
   "source": []
  },
  {
   "cell_type": "markdown",
   "metadata": {},
   "source": [
    "## Analysis\n",
    "\n",
    "Berdasarkan informasi yang di dapatkan dari website 'https://www.exchange-rates.org/exchange-rate-history/usd-idr', dapat diketahui bahwa nilai tukar 1 USD terhadap IDR selama 6 bulan terakhir (Agustus - Maret 2024) bergerak sangat fluktuatif. Nilai tertinggi mencapai Rp16.400 pada bulan Juni 2024 dan nilai terendah Rp15.400 pada bulan Agustus 2024."
   ]
  },
  {
   "cell_type": "markdown",
   "metadata": {},
   "source": [
    "### Extra Challange\n",
    "\n",
    "This will be not included to the scoring. \n",
    "\n",
    "- You can create additional visualization/analysis from the data.\n",
    "- Implement it to the dashboard with at `app.py` dan `index.html`."
   ]
  }
 ],
 "metadata": {
  "kernelspec": {
   "display_name": "ZEUS_CA",
   "language": "python",
   "name": "python3"
  },
  "language_info": {
   "codemirror_mode": {
    "name": "ipython",
    "version": 3
   },
   "file_extension": ".py",
   "mimetype": "text/x-python",
   "name": "python",
   "nbconvert_exporter": "python",
   "pygments_lexer": "ipython3",
   "version": "3.10.14"
  }
 },
 "nbformat": 4,
 "nbformat_minor": 2
}
